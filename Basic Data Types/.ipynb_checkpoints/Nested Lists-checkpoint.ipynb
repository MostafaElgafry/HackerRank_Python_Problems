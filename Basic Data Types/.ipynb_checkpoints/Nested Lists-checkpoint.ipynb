{
 "cells": [
  {
   "cell_type": "code",
   "execution_count": null,
   "id": "662291f8",
   "metadata": {},
   "outputs": [],
   "source": [
    "if __name__ == '__main__':\n",
    "    dict={}\n",
    "    for _ in range(int(input())):\n",
    "        name = input()\n",
    "        score = float(input())\n",
    "        dict[name]=score\n",
    "    temp = min(dict.values())\n",
    "    res1 = [key for key in dict if dict[key] == temp]\n",
    "    l=list()\n",
    "    del dict[res1[0]]\n",
    "    temp = min(dict.values())\n",
    "    res2 = [key for key in dict if dict[key] == temp]\n",
    "    res2.sort()\n",
    "    print('\\n'.join(res2))"
   ]
  }
 ],
 "metadata": {
  "kernelspec": {
   "display_name": "Python 3 (ipykernel)",
   "language": "python",
   "name": "python3"
  },
  "language_info": {
   "codemirror_mode": {
    "name": "ipython",
    "version": 3
   },
   "file_extension": ".py",
   "mimetype": "text/x-python",
   "name": "python",
   "nbconvert_exporter": "python",
   "pygments_lexer": "ipython3",
   "version": "3.7.3"
  }
 },
 "nbformat": 4,
 "nbformat_minor": 5
}
