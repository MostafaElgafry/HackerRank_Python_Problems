{
 "cells": [
  {
   "cell_type": "code",
   "execution_count": null,
   "id": "f18c7b50",
   "metadata": {},
   "outputs": [],
   "source": [
    "if __name__ == '__main__':\n",
    "    N = int(input())\n",
    "    output=[]\n",
    "    for _ in range(N):\n",
    "        operator,*line=input().split()\n",
    "        num=list(map(int,line))\n",
    "        if operator == 'insert':\n",
    "            output.insert(num[0],num[1])\n",
    "        elif operator == 'print':\n",
    "            print(output)\n",
    "        elif operator == 'remove':\n",
    "            output.remove(num[0])     \n",
    "        elif operator == 'append':\n",
    "            output.append(num[0])             \n",
    "        elif operator == 'sort':\n",
    "            output.sort()        \n",
    "        elif operator == 'pop':\n",
    "            output.pop()         \n",
    "        elif operator == 'reverse':\n",
    "            output.reverse()"
   ]
  }
 ],
 "metadata": {
  "kernelspec": {
   "display_name": "Python 3 (ipykernel)",
   "language": "python",
   "name": "python3"
  },
  "language_info": {
   "codemirror_mode": {
    "name": "ipython",
    "version": 3
   },
   "file_extension": ".py",
   "mimetype": "text/x-python",
   "name": "python",
   "nbconvert_exporter": "python",
   "pygments_lexer": "ipython3",
   "version": "3.7.3"
  }
 },
 "nbformat": 4,
 "nbformat_minor": 5
}
