{
 "cells": [
  {
   "cell_type": "markdown",
   "id": "d8644e71",
   "metadata": {},
   "source": [
    "### Problem"
   ]
  },
  {
   "cell_type": "markdown",
   "id": "c28dd397",
   "metadata": {},
   "source": [
    "Here is a sample line of code that can be executed in Python:  "
   ]
  },
  {
   "cell_type": "markdown",
   "id": "385f9c16",
   "metadata": {},
   "source": [
    "print(\"Hello, World!\")"
   ]
  },
  {
   "cell_type": "markdown",
   "id": "d2215bce",
   "metadata": {},
   "source": [
    "You can just as easily store a string as a variable and then print it to stdout:"
   ]
  },
  {
   "cell_type": "markdown",
   "id": "3b32517f",
   "metadata": {},
   "source": [
    "my_string = \"Hello, World!\"\n",
    "\n",
    "print(my_string)"
   ]
  },
  {
   "cell_type": "markdown",
   "id": "a5da6c31",
   "metadata": {},
   "source": [
    "### Solution"
   ]
  },
  {
   "cell_type": "code",
   "execution_count": 2,
   "id": "5240126c",
   "metadata": {},
   "outputs": [
    {
     "name": "stdout",
     "output_type": "stream",
     "text": [
      "Hello, World!\n"
     ]
    }
   ],
   "source": [
    "print(\"Hello, World!\")\n"
   ]
  }
 ],
 "metadata": {
  "kernelspec": {
   "display_name": "Python 3 (ipykernel)",
   "language": "python",
   "name": "python3"
  },
  "language_info": {
   "codemirror_mode": {
    "name": "ipython",
    "version": 3
   },
   "file_extension": ".py",
   "mimetype": "text/x-python",
   "name": "python",
   "nbconvert_exporter": "python",
   "pygments_lexer": "ipython3",
   "version": "3.9.2"
  }
 },
 "nbformat": 4,
 "nbformat_minor": 5
}
