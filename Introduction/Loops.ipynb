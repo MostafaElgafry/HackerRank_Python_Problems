{
 "cells": [
  {
   "cell_type": "markdown",
   "id": "1db9e569",
   "metadata": {},
   "source": [
    "### Task"
   ]
  },
  {
   "cell_type": "markdown",
   "id": "397ba996",
   "metadata": {},
   "source": [
    "The provided code stub reads and integer,**n** , from STDIN. For all non-negative **i<n** integers, print **i²** ."
   ]
  },
  {
   "cell_type": "markdown",
   "id": "083244da",
   "metadata": {},
   "source": [
    "### Examble"
   ]
  },
  {
   "cell_type": "markdown",
   "id": "cbdece84",
   "metadata": {},
   "source": [
    "### n =3 "
   ]
  },
  {
   "cell_type": "markdown",
   "id": "8bc45ce1",
   "metadata": {},
   "source": [
    "The list of non-negative integers that are less than **n =3** is **[0,1,2]** . Print the square of each number on a separate line."
   ]
  },
  {
   "cell_type": "markdown",
   "id": "99fdca07",
   "metadata": {},
   "source": [
    "```\n",
    "0\n",
    "1\n",
    "4\n",
    "```"
   ]
  },
  {
   "cell_type": "markdown",
   "id": "a718c51c",
   "metadata": {},
   "source": [
    "### solve"
   ]
  },
  {
   "cell_type": "code",
   "execution_count": 1,
   "id": "b68b35b0",
   "metadata": {},
   "outputs": [
    {
     "name": "stdout",
     "output_type": "stream",
     "text": [
      "5\n",
      "0\n",
      "1\n",
      "4\n",
      "9\n",
      "16\n"
     ]
    }
   ],
   "source": [
    "if __name__ == '__main__':\n",
    "    n = int(input())\n",
    "    for i in range(0,n):\n",
    "        print(i*i)"
   ]
  }
 ],
 "metadata": {
  "kernelspec": {
   "display_name": "Python 3 (ipykernel)",
   "language": "python",
   "name": "python3"
  },
  "language_info": {
   "codemirror_mode": {
    "name": "ipython",
    "version": 3
   },
   "file_extension": ".py",
   "mimetype": "text/x-python",
   "name": "python",
   "nbconvert_exporter": "python",
   "pygments_lexer": "ipython3",
   "version": "3.9.2"
  }
 },
 "nbformat": 4,
 "nbformat_minor": 5
}
