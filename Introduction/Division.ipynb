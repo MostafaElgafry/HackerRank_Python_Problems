{
 "cells": [
  {
   "cell_type": "markdown",
   "id": "6386e63c",
   "metadata": {},
   "source": [
    "### Task"
   ]
  },
  {
   "cell_type": "markdown",
   "id": "b0f8069c",
   "metadata": {},
   "source": [
    "The provided code stub reads two integers, **a** and **b**, from STDIN."
   ]
  },
  {
   "cell_type": "markdown",
   "id": "7ef04cff",
   "metadata": {},
   "source": [
    "Add logic to print two lines. The first line should contain the result of integer division,  **a** // **b**. The second line should contain the result of float division, **a** / **b**.\n",
    "No rounding or formatting is necessary."
   ]
  },
  {
   "cell_type": "markdown",
   "id": "297360c5",
   "metadata": {},
   "source": [
    "### Example"
   ]
  },
  {
   "cell_type": "markdown",
   "id": "78693da3",
   "metadata": {},
   "source": [
    "### a = 3\n",
    "### b = 5"
   ]
  },
  {
   "cell_type": "markdown",
   "id": "8ba6f1cf",
   "metadata": {},
   "source": [
    "- The result of the integer division **3 // 5 = 0** .\n",
    "- The result of the float division is **3/ 5 = 0.6**."
   ]
  },
  {
   "cell_type": "markdown",
   "id": "3c7c89aa",
   "metadata": {},
   "source": [
    "### slove"
   ]
  },
  {
   "cell_type": "code",
   "execution_count": 1,
   "id": "0d01e507",
   "metadata": {},
   "outputs": [
    {
     "name": "stdout",
     "output_type": "stream",
     "text": [
      "4\n",
      "3\n",
      "1\n",
      "1.3333333333333333\n"
     ]
    }
   ],
   "source": [
    "if __name__ == '__main__':\n",
    "    a = int(input())\n",
    "    b = int(input())\n",
    "    print(a//b)\n",
    "    print(a/b)"
   ]
  }
 ],
 "metadata": {
  "kernelspec": {
   "display_name": "Python 3 (ipykernel)",
   "language": "python",
   "name": "python3"
  },
  "language_info": {
   "codemirror_mode": {
    "name": "ipython",
    "version": 3
   },
   "file_extension": ".py",
   "mimetype": "text/x-python",
   "name": "python",
   "nbconvert_exporter": "python",
   "pygments_lexer": "ipython3",
   "version": "3.9.2"
  }
 },
 "nbformat": 4,
 "nbformat_minor": 5
}
