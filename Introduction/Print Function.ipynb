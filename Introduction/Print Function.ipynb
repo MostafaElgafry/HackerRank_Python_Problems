{
 "cells": [
  {
   "cell_type": "markdown",
   "id": "be26a607",
   "metadata": {},
   "source": [
    "The included code stub will read an integer,**n** , from STDIN.\n",
    "\n",
    "Without using any string methods, try to print the following:"
   ]
  },
  {
   "cell_type": "markdown",
   "id": "d96a7106",
   "metadata": {},
   "source": [
    "### 123...n"
   ]
  },
  {
   "cell_type": "markdown",
   "id": "78876709",
   "metadata": {},
   "source": [
    "Note that **\"...\"** represents the consecutive values in between."
   ]
  },
  {
   "cell_type": "markdown",
   "id": "17bffcd3",
   "metadata": {},
   "source": [
    "### Example"
   ]
  },
  {
   "cell_type": "markdown",
   "id": "899ec548",
   "metadata": {},
   "source": [
    "**n=5**"
   ]
  },
  {
   "cell_type": "markdown",
   "id": "1129a9f5",
   "metadata": {},
   "source": [
    "Print the string **12345**."
   ]
  },
  {
   "cell_type": "markdown",
   "id": "2bdccdf0",
   "metadata": {},
   "source": [
    "### Solve"
   ]
  },
  {
   "cell_type": "code",
   "execution_count": 31,
   "id": "6c1ca5c9",
   "metadata": {},
   "outputs": [
    {
     "name": "stdout",
     "output_type": "stream",
     "text": [
      "5\n",
      "12345"
     ]
    }
   ],
   "source": [
    "if __name__ == '__main__':\n",
    "    n = int(input())\n",
    "    for i in range(1,n + 1 ):\n",
    "       print(i, end = '' )"
   ]
  }
 ],
 "metadata": {
  "kernelspec": {
   "display_name": "Python 3 (ipykernel)",
   "language": "python",
   "name": "python3"
  },
  "language_info": {
   "codemirror_mode": {
    "name": "ipython",
    "version": 3
   },
   "file_extension": ".py",
   "mimetype": "text/x-python",
   "name": "python",
   "nbconvert_exporter": "python",
   "pygments_lexer": "ipython3",
   "version": "3.9.2"
  }
 },
 "nbformat": 4,
 "nbformat_minor": 5
}
