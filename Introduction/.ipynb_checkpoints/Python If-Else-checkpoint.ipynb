{
 "cells": [
  {
   "cell_type": "markdown",
   "id": "5dfd87e8",
   "metadata": {},
   "source": [
    "### Task"
   ]
  },
  {
   "cell_type": "markdown",
   "id": "ab1020b7",
   "metadata": {},
   "source": [
    "Given an integer, **n** , perform the following conditional actions:\n",
    "\n"
   ]
  },
  {
   "cell_type": "markdown",
   "id": "5ea926d8",
   "metadata": {},
   "source": [
    "- If **n** is odd, print Weird\n",
    "- If **n** is even and in the inclusive range of **2** to  **5** , print Not Weird\n",
    "- If **n** is even and in the inclusive range of **6** to  **20**, print Weird\n",
    "- If **n** is even and greater than  **20**, print Not Weird"
   ]
  },
  {
   "cell_type": "markdown",
   "id": "49ec30e1",
   "metadata": {},
   "source": [
    "### Input Format"
   ]
  },
  {
   "cell_type": "markdown",
   "id": "8eb54ba1",
   "metadata": {},
   "source": [
    "A single line containing a positive integer,**n**."
   ]
  },
  {
   "cell_type": "markdown",
   "id": "603d1eea",
   "metadata": {},
   "source": [
    "### Constraints"
   ]
  },
  {
   "cell_type": "markdown",
   "id": "93e9dcc9",
   "metadata": {},
   "source": [
    "- 1 ≤ **n** ≤ 100"
   ]
  },
  {
   "cell_type": "markdown",
   "id": "9a159414",
   "metadata": {},
   "source": [
    "### Output Format"
   ]
  },
  {
   "cell_type": "markdown",
   "id": "b06f05b8",
   "metadata": {},
   "source": [
    "Print Weird if the number is weird. Otherwise, print Not Weird."
   ]
  },
  {
   "cell_type": "code",
   "execution_count": 1,
   "id": "f896b1ae",
   "metadata": {},
   "outputs": [
    {
     "name": "stdout",
     "output_type": "stream",
     "text": [
      "30\n",
      "Not Weird\n"
     ]
    }
   ],
   "source": [
    "#!/bin/python3\n",
    "\n",
    "import math\n",
    "import os\n",
    "import random\n",
    "import re\n",
    "import sys\n",
    "\n",
    "if __name__ == '__main__':\n",
    "    n = int(input().strip())\n",
    "    if not n%2 == 0:\n",
    "        print('Weird')\n",
    "    elif n>2 and n<5:\n",
    "        print('Not Weird')  \n",
    "    elif n>6 and n<21:\n",
    "        print('Weird')\n",
    "    elif n>20:\n",
    "        print('Not Weird')          \n",
    "        "
   ]
  }
 ],
 "metadata": {
  "kernelspec": {
   "display_name": "Python 3 (ipykernel)",
   "language": "python",
   "name": "python3"
  },
  "language_info": {
   "codemirror_mode": {
    "name": "ipython",
    "version": 3
   },
   "file_extension": ".py",
   "mimetype": "text/x-python",
   "name": "python",
   "nbconvert_exporter": "python",
   "pygments_lexer": "ipython3",
   "version": "3.9.2"
  }
 },
 "nbformat": 4,
 "nbformat_minor": 5
}
