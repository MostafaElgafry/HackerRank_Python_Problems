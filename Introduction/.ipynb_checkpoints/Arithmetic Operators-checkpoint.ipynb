{
 "cells": [
  {
   "cell_type": "markdown",
   "id": "c5b101d6",
   "metadata": {},
   "source": [
    "### Task"
   ]
  },
  {
   "cell_type": "markdown",
   "id": "e40b8b80",
   "metadata": {},
   "source": [
    "The provided code stub reads two integers from STDIN, **a** and **b** . Add code to print three lines where:"
   ]
  },
  {
   "cell_type": "markdown",
   "id": "23a22e31",
   "metadata": {},
   "source": [
    "1. The first line contains the sum of the two numbers.\n",
    "2. The second line contains the difference of the two numbers (first - second).\n",
    "3. The third line contains the product of the two numbers."
   ]
  },
  {
   "cell_type": "markdown",
   "id": "45590407",
   "metadata": {},
   "source": [
    "### Example"
   ]
  },
  {
   "cell_type": "markdown",
   "id": "e46fdd9d",
   "metadata": {},
   "source": [
    "\n",
    " - **a = 3**\n",
    " - **b = 5** \n",
    "\n"
   ]
  },
  {
   "cell_type": "markdown",
   "id": "c22f72fb",
   "metadata": {},
   "source": [
    "Print the following:\n",
    "```\n",
    " 8\n",
    "-2\n",
    "15\n",
    "```"
   ]
  },
  {
   "cell_type": "markdown",
   "id": "480e79d6",
   "metadata": {},
   "source": [
    "### Input Format"
   ]
  },
  {
   "cell_type": "markdown",
   "id": "5b01f918",
   "metadata": {},
   "source": [
    "The first line contains the first integer, **a** ."
   ]
  },
  {
   "cell_type": "markdown",
   "id": "ede7380b",
   "metadata": {},
   "source": [
    "The second line contains the second integer, **b** ."
   ]
  },
  {
   "cell_type": "markdown",
   "id": "4cbfa60d",
   "metadata": {},
   "source": [
    "### Constraints"
   ]
  },
  {
   "cell_type": "markdown",
   "id": "9efe4958",
   "metadata": {},
   "source": [
    "**1 ≤ a ≤ 10^10**"
   ]
  },
  {
   "cell_type": "markdown",
   "id": "6a55b367",
   "metadata": {},
   "source": [
    "**1 ≤ b ≤ 10^10**"
   ]
  },
  {
   "cell_type": "markdown",
   "id": "8bfb4053",
   "metadata": {},
   "source": [
    "### Solve"
   ]
  },
  {
   "cell_type": "code",
   "execution_count": 1,
   "id": "84c61831",
   "metadata": {},
   "outputs": [
    {
     "name": "stdout",
     "output_type": "stream",
     "text": [
      "3\n",
      "5\n",
      "8\n",
      "-2\n",
      "15\n"
     ]
    }
   ],
   "source": [
    "if __name__ == '__main__':\n",
    "    a = int(input())\n",
    "    b = int(input())\n",
    "    print(a+b)\n",
    "    print(a-b)\n",
    "    print(a*b)"
   ]
  }
 ],
 "metadata": {
  "kernelspec": {
   "display_name": "Python 3 (ipykernel)",
   "language": "python",
   "name": "python3"
  },
  "language_info": {
   "codemirror_mode": {
    "name": "ipython",
    "version": 3
   },
   "file_extension": ".py",
   "mimetype": "text/x-python",
   "name": "python",
   "nbconvert_exporter": "python",
   "pygments_lexer": "ipython3",
   "version": "3.9.2"
  }
 },
 "nbformat": 4,
 "nbformat_minor": 5
}
